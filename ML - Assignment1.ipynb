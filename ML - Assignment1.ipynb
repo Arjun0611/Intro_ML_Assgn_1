{
 "cells": [
  {
   "cell_type": "code",
   "execution_count": 2,
   "id": "28b3d3b0-5c25-4615-962f-1d4c31595e1e",
   "metadata": {},
   "outputs": [],
   "source": [
    "#Q1.\n",
    "\n",
    "# AI: It refers to the development of computer systems capable of performing tasks that typically require human intelligence without any human intervention. An example would be self-driving cars.\n",
    "\n",
    "# ML: It is a subset of AI that focuses on the development of algorithms allowing computers to learn from and make predictions or decisions based on data. An example would be a recommendation system utilized by Amazon and Netflix to suggest products to purchase and content to stream for respectively.\n",
    "\n",
    "# DL: It is a subfield of ML that uses multi-layered neural networks to model and solve complex tasks. An example would be Image recognition system."
   ]
  },
  {
   "cell_type": "code",
   "execution_count": 3,
   "id": "e46e1892-89a0-4cd2-8fb2-87622f9a333f",
   "metadata": {},
   "outputs": [],
   "source": [
    "# Q2.\n",
    "\n",
    "# Supervised learning is a paradigm where the algorithm learns from labeled training data to make predictions or decisions without human intervention.\n",
    "\n",
    "# In supervised learning, the algorithm learns the mapping between einput data and the corresponding output.\n",
    "\n",
    "#Examples include:\n",
    "#1. Image Classification: Categorizing images into predefined classes (e.g. cats or dogs).\n",
    "#2. Sentiment Analysis: Determining the sentiment of a text (e.g. positive or negative).\n",
    "#3. Predicting Stock Prices: Forecasting future stock prices based on historical data."
   ]
  },
  {
   "cell_type": "code",
   "execution_count": 4,
   "id": "f09b2587-bc5e-4eea-b024-027e734f42b0",
   "metadata": {},
   "outputs": [],
   "source": [
    "#Q3.\n",
    "\n",
    "# Unsupervised learning is a paradigm where the algorithms learn patterns, structures, or relationships in data without the use of labeled output or explicit supervision.\n",
    "\n",
    "# In unsupervised learning, the goal is to discover hidden groupings within the data.\n",
    "\n",
    "#Examples:\n",
    "\n",
    "#1. Clustering: Grouping similar data points together. For example, clustering customers based on their purchasing behavior.\n",
    "\n",
    "#2. Anomaly Detection: Identifying rare or unusual instances in a dataset. This can be used for fraud detection or identifying defective products.\n",
    "\n",
    "#3. Topic Modeling: Automatically discovering topics within a collection of documents, like identifying themes in news articles."
   ]
  },
  {
   "cell_type": "code",
   "execution_count": 5,
   "id": "946250f5-0922-47d8-a06c-a92794bad45c",
   "metadata": {},
   "outputs": [],
   "source": [
    "#Q4.\n",
    "\n",
    "# AI: It is a broader field of creating machines that can simulate human intelligence.\n",
    "\n",
    "# ML: It is focused on developing algorithms that enable computers to learn from data and improve their performance on specific tasks.\n",
    "\n",
    "# DL: It deals with deep neural networks, particularly effective in tasks like image and speech recognition.\n",
    "\n",
    "# DS: An interdisciplinary field that combines domain knowledge, programming, and statistical expertise to extract insights and solve problems using data."
   ]
  },
  {
   "cell_type": "code",
   "execution_count": 6,
   "id": "16892773-4699-458e-b225-051f8fb671d2",
   "metadata": {},
   "outputs": [],
   "source": [
    "#Q5.\n",
    "\n",
    "# Supervised Learning\n",
    "# Uses labeled data for training.\n",
    "# Predicts outcomes based on input features.\n",
    "# Common for classification and regression tasks.\n",
    "\n",
    "# Unsupervised Learning:\n",
    "# Uses unlabeled data for training.\n",
    "# Identifies patterns, clusters, or structures in data.\n",
    "# Common for clustering and dimensionality reduction.\n",
    "\n",
    "# Semi-Supervised Learning:\n",
    "# Utilizes both labeled and unlabeled data.\n",
    "# Combines aspects of both unsupervised and supervised learning.\n",
    "# Helpful when labeling data is expensive or limited."
   ]
  },
  {
   "cell_type": "code",
   "execution_count": 7,
   "id": "901e5506-85d7-405d-9540-723d95d862a0",
   "metadata": {},
   "outputs": [],
   "source": [
    "#Q6."
   ]
  },
  {
   "cell_type": "code",
   "execution_count": 8,
   "id": "87ee314e-38d9-40fb-8744-6fba61f9c689",
   "metadata": {},
   "outputs": [],
   "source": [
    "# Training Data - A portion of the dataset used for training the machine learning model.\n",
    "# Validation Data - A subset of data used during model development to tune hyperparameters.\n",
    "# Test Data - A separate portion of the dataset used to evaluate the model's performance.\n",
    "\n",
    "# Importance:\n",
    "# Training Data - Used to teach the model patterns and relationships in the data.\n",
    "# Validation Data - Essential for hyperparameter tuning and avoiding overfitting.\n",
    "# Test Data - Helps assess how well the model generalizes to unseen data."
   ]
  },
  {
   "cell_type": "code",
   "execution_count": 9,
   "id": "a2126982-432c-42fd-acda-c03d002151c3",
   "metadata": {},
   "outputs": [],
   "source": [
    "#Q7.\n",
    "\n",
    "# Unsupervised learning can be used in anomaly detection by allowing the algorithm to learn the normal patterns or structure of data, and then identifying data points that deviate significantly from this learned norm as anomalies. "
   ]
  },
  {
   "cell_type": "code",
   "execution_count": 10,
   "id": "2990765c-6231-4a81-87aa-da578ac358e4",
   "metadata": {},
   "outputs": [],
   "source": [
    "#Q8.\n",
    "\n",
    "# Supervised Learning Algorithms:\n",
    "\n",
    "# Linear Regression\n",
    "# Logistic Regression\n",
    "# Decision Trees\n",
    "# Random Forest\n",
    "# Support Vector Machines (SVM)\n",
    "# k-Nearest Neighbors (k-NN)\n",
    "# Naive Bayes\n",
    "# Neural Networks (Deep Learning)\n",
    "# Gradient Boosting (e.g., XGBoost)\n",
    "# Linear Discriminant Analysis (LDA)\n",
    "\n",
    "# Unsupervised Learning Algorithms:\n",
    "\n",
    "# K-Means Clustering\n",
    "# Hierarchical Clustering\n",
    "# Principal Component Analysis (PCA)\n",
    "# Gaussian Mixture Models (GMM)\n",
    "# Independent Component Analysis (ICA)\n",
    "# Self-Organizing Maps (SOM)\n",
    "# Autoencoders (for dimensionality reduction)\n",
    "# DBSCAN (Density-Based Spatial Clustering)\n",
    "# Mean-Shift Clustering\n",
    "# t-Distributed Stochastic Neighbor Embedding (t-SNE)"
   ]
  },
  {
   "cell_type": "code",
   "execution_count": null,
   "id": "81f7f822-53af-46d0-bef7-737e4b54035c",
   "metadata": {},
   "outputs": [],
   "source": [
    "# End"
   ]
  }
 ],
 "metadata": {
  "kernelspec": {
   "display_name": "Python 3 (ipykernel)",
   "language": "python",
   "name": "python3"
  },
  "language_info": {
   "codemirror_mode": {
    "name": "ipython",
    "version": 3
   },
   "file_extension": ".py",
   "mimetype": "text/x-python",
   "name": "python",
   "nbconvert_exporter": "python",
   "pygments_lexer": "ipython3",
   "version": "3.10.8"
  }
 },
 "nbformat": 4,
 "nbformat_minor": 5
}
